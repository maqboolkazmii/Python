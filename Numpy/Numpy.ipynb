{
 "cells": [
  {
   "cell_type": "markdown",
   "id": "dc552f4e",
   "metadata": {},
   "source": [
    "# NumPy"
   ]
  },
  {
   "cell_type": "markdown",
   "id": "f2261116",
   "metadata": {},
   "source": [
    "In this chapter, our focus will be on the following topics:\n",
    "* Understanding NumPy arrays\n",
    "* NumPy array numerical data types\n",
    "* Manipulating array shapes\n",
    "* The stacking of NumPy arrays\n",
    "* Partitioning NumPy arrays\n",
    "* Changing the data type of NumPy arrays\n",
    "* Creating NumPy views and copies\n",
    "* Slicing NumPy arrays\n",
    "* Boolean and fancy indexing\n",
    "* Broadcasting arrays\n",
    "* Creating pandas DataFrames\n",
    "* Understanding pandas Series\n",
    "* Reading and querying the Quandl data\n",
    "* Describing pandas DataFrames"
   ]
  },
  {
   "cell_type": "markdown",
   "id": "654a7d06",
   "metadata": {},
   "source": [
    "NumPy arrays are a series of homogenous items. Homogenous means the\n",
    "array will have all the elements of the same data type"
   ]
  },
  {
   "cell_type": "code",
   "execution_count": 1,
   "id": "f4d9af84",
   "metadata": {},
   "outputs": [],
   "source": [
    "import numpy as np\n",
    "import pandas as pd"
   ]
  },
  {
   "cell_type": "code",
   "execution_count": 2,
   "id": "dbfec04f",
   "metadata": {},
   "outputs": [
    {
     "data": {
      "text/plain": [
       "array([2, 3, 4, 5, 6, 8, 7, 6, 5, 4, 3])"
      ]
     },
     "execution_count": 2,
     "metadata": {},
     "output_type": "execute_result"
    }
   ],
   "source": [
    "#create an array\n",
    "array=np.array([2,3,4,5,6,8,7,6,5,4,3])\n",
    "array"
   ]
  },
  {
   "cell_type": "markdown",
   "id": "2fc7b264",
   "metadata": {},
   "source": [
    "Another way to create a NumPy array is with arange(). It creates an evenly spaced\n",
    "NumPy array. Three values – start, stop, and step – can be passed to the\n",
    "arange(start,[stop],step)"
   ]
  },
  {
   "cell_type": "code",
   "execution_count": 5,
   "id": "9e3c56f8",
   "metadata": {},
   "outputs": [
    {
     "data": {
      "text/plain": [
       "array([ 1,  2,  3,  4,  5,  6,  7,  8,  9, 10, 11, 12, 13, 14])"
      ]
     },
     "execution_count": 5,
     "metadata": {},
     "output_type": "execute_result"
    }
   ],
   "source": [
    "# Creating an array using arange()\n",
    "range_array=np.arange(1,15)\n",
    "range_array"
   ]
  },
  {
   "cell_type": "markdown",
   "id": "db5c1dc3",
   "metadata": {},
   "source": [
    "Apart from the array() and arange() functions, there are other options, such as\n",
    "zeros(), ones(), full(), eye(), and random(), which can also be used to create a\n",
    "NumPy array, as these functions are initial placeholders. Here is a detailed description of\n",
    "each function:\n",
    "* zeros(): The zeros()function creates an array for a given dimension with all\n",
    "zeroes.\n",
    "* ones(): The ones() function creates an array for a given dimension with all\n",
    "ones.\n",
    "* fulls(): The full() function generates an array with constant values.\n",
    "* eyes(): The eye() function creates an identity matrix.\n",
    "* random(): The random() function creates an array with any given dimension.\n"
   ]
  },
  {
   "cell_type": "code",
   "execution_count": 7,
   "id": "e2c706ac",
   "metadata": {},
   "outputs": [
    {
     "data": {
      "text/plain": [
       "array([[0., 0., 0., 0.],\n",
       "       [0., 0., 0., 0.],\n",
       "       [0., 0., 0., 0.],\n",
       "       [0., 0., 0., 0.]])"
      ]
     },
     "execution_count": 7,
     "metadata": {},
     "output_type": "execute_result"
    }
   ],
   "source": [
    "# Create an array of all zeros\n",
    "np.zeros((4,4))"
   ]
  },
  {
   "cell_type": "code",
   "execution_count": 9,
   "id": "5396ee8a",
   "metadata": {},
   "outputs": [
    {
     "data": {
      "text/plain": [
       "array([[1., 1., 1.],\n",
       "       [1., 1., 1.]])"
      ]
     },
     "execution_count": 9,
     "metadata": {},
     "output_type": "execute_result"
    }
   ],
   "source": [
    "# Create an array of all ones\n",
    "np.ones((2,3))"
   ]
  },
  {
   "cell_type": "code",
   "execution_count": 11,
   "id": "89de201c",
   "metadata": {},
   "outputs": [
    {
     "data": {
      "text/plain": [
       "array([[6, 6, 6, 6],\n",
       "       [6, 6, 6, 6],\n",
       "       [6, 6, 6, 6]])"
      ]
     },
     "execution_count": 11,
     "metadata": {},
     "output_type": "execute_result"
    }
   ],
   "source": [
    "# Create an array of constant\n",
    "np.full((3,4),6)\n"
   ]
  },
  {
   "cell_type": "code",
   "execution_count": 14,
   "id": "0fccb546",
   "metadata": {},
   "outputs": [
    {
     "data": {
      "text/plain": [
       "array([[1., 0.],\n",
       "       [0., 1.]])"
      ]
     },
     "execution_count": 14,
     "metadata": {},
     "output_type": "execute_result"
    }
   ],
   "source": [
    "# Create a 2x2 identity matrix\n",
    "np.eye(2)"
   ]
  },
  {
   "cell_type": "code",
   "execution_count": 18,
   "id": "28a34a38",
   "metadata": {},
   "outputs": [
    {
     "data": {
      "text/plain": [
       "array([[0.70282223, 0.71441859, 0.27259016],\n",
       "       [0.29708597, 0.40553644, 0.16826268],\n",
       "       [0.56141256, 0.52982417, 0.84159499]])"
      ]
     },
     "execution_count": 18,
     "metadata": {},
     "output_type": "execute_result"
    }
   ],
   "source": [
    "# Create an array filled with random values\n",
    "np.random.random((3,3))\n"
   ]
  },
  {
   "cell_type": "markdown",
   "id": "01693da4",
   "metadata": {},
   "source": [
    "# Array features"
   ]
  },
  {
   "cell_type": "markdown",
   "id": "77acba5d",
   "metadata": {},
   "source": [
    "## Selecting array elements"
   ]
  },
  {
   "cell_type": "code",
   "execution_count": 21,
   "id": "12e5f1fb",
   "metadata": {},
   "outputs": [
    {
     "data": {
      "text/plain": [
       "array([[1, 2, 3],\n",
       "       [2, 3, 4]])"
      ]
     },
     "execution_count": 21,
     "metadata": {},
     "output_type": "execute_result"
    }
   ],
   "source": [
    "arry=np.array([[1,2,3],[2,3,4]])\n",
    "arry"
   ]
  },
  {
   "cell_type": "markdown",
   "id": "8688a2b0",
   "metadata": {},
   "source": [
    "e. We just need to specify the index of the matrix as\n",
    "a[m,n]. Here, m is the row index and n is the column index of the matrix. \\n\n",
    "Array [Row] [Col]"
   ]
  },
  {
   "cell_type": "code",
   "execution_count": 26,
   "id": "6627f46f",
   "metadata": {},
   "outputs": [
    {
     "data": {
      "text/plain": [
       "array([2, 3, 4])"
      ]
     },
     "execution_count": 26,
     "metadata": {},
     "output_type": "execute_result"
    }
   ],
   "source": [
    "arry[1]"
   ]
  },
  {
   "cell_type": "code",
   "execution_count": 29,
   "id": "243ce97f",
   "metadata": {},
   "outputs": [
    {
     "data": {
      "text/plain": [
       "4"
      ]
     },
     "execution_count": 29,
     "metadata": {},
     "output_type": "execute_result"
    }
   ],
   "source": [
    "arry[1][2]"
   ]
  },
  {
   "cell_type": "markdown",
   "id": "b2151288",
   "metadata": {},
   "source": [
    "# Manipulating array shapes"
   ]
  },
  {
   "cell_type": "markdown",
   "id": "27ad9b05",
   "metadata": {},
   "source": [
    "In this section, our main focus is on array manipulation. Let's learn some new Python\n",
    "functions of NumPy, such as \n",
    "* reshape()\n",
    "* flatten() \n",
    "* ravel()\n",
    "* transpose()\n",
    "* resize():"
   ]
  },
  {
   "cell_type": "markdown",
   "id": "78958134",
   "metadata": {},
   "source": [
    "#### reshape() will change the shape of the array:\n"
   ]
  },
  {
   "cell_type": "code",
   "execution_count": 34,
   "id": "e5af7555",
   "metadata": {},
   "outputs": [
    {
     "data": {
      "text/plain": [
       "array([[ 4,  5,  6],\n",
       "       [ 7,  8,  9],\n",
       "       [10, 11, 12]])"
      ]
     },
     "execution_count": 34,
     "metadata": {},
     "output_type": "execute_result"
    }
   ],
   "source": [
    "d3=np.arange(4,13).reshape(3,3)\n",
    "d3"
   ]
  },
  {
   "cell_type": "markdown",
   "id": "a69612dc",
   "metadata": {},
   "source": [
    "####  flatten() transforms an n-dimensional array into a one-dimensional array"
   ]
  },
  {
   "cell_type": "code",
   "execution_count": 35,
   "id": "001a683e",
   "metadata": {},
   "outputs": [
    {
     "data": {
      "text/plain": [
       "array([ 4,  5,  6,  7,  8,  9, 10, 11, 12])"
      ]
     },
     "execution_count": 35,
     "metadata": {},
     "output_type": "execute_result"
    }
   ],
   "source": [
    "d3.flatten()"
   ]
  },
  {
   "cell_type": "markdown",
   "id": "c3a90a2e",
   "metadata": {},
   "source": [
    "#### The ravel() function is similar to the flatten() function. It also transforms an\n",
    "n-dimensional array into a one-dimensional array. The main difference is that\n",
    "flatten() returns the actual array while ravel() returns the reference of the\n",
    "original array. The ravel() function is faster than the flatten() function\n",
    "because it does not occupy extra memory:\n"
   ]
  },
  {
   "cell_type": "code",
   "execution_count": 36,
   "id": "0a0964e3",
   "metadata": {},
   "outputs": [
    {
     "data": {
      "text/plain": [
       "array([ 4,  5,  6,  7,  8,  9, 10, 11, 12])"
      ]
     },
     "execution_count": 36,
     "metadata": {},
     "output_type": "execute_result"
    }
   ],
   "source": [
    "d3.ravel()"
   ]
  },
  {
   "cell_type": "markdown",
   "id": "b9eec9f8",
   "metadata": {},
   "source": [
    "#### The transpose() function is a linear algebraic function that transposes the\n",
    "given two-dimensional matrix."
   ]
  },
  {
   "cell_type": "code",
   "execution_count": 38,
   "id": "3c933bb5",
   "metadata": {},
   "outputs": [
    {
     "name": "stdout",
     "output_type": "stream",
     "text": [
      "[[ 4  5  6]\n",
      " [ 7  8  9]\n",
      " [10 11 12]]\n"
     ]
    },
    {
     "data": {
      "text/plain": [
       "array([[ 4,  7, 10],\n",
       "       [ 5,  8, 11],\n",
       "       [ 6,  9, 12]])"
      ]
     },
     "execution_count": 38,
     "metadata": {},
     "output_type": "execute_result"
    }
   ],
   "source": [
    "print(d3)\n",
    "d3.transpose()"
   ]
  },
  {
   "cell_type": "code",
   "execution_count": 46,
   "id": "15221103",
   "metadata": {},
   "outputs": [
    {
     "data": {
      "text/plain": [
       "array([1, 1, 1, 1, 1, 1, 1, 1, 1])"
      ]
     },
     "execution_count": 46,
     "metadata": {},
     "output_type": "execute_result"
    }
   ],
   "source": [
    "np.resize(1,9)"
   ]
  },
  {
   "cell_type": "markdown",
   "id": "a5fbe88c",
   "metadata": {},
   "source": [
    "# The stacking of NumPy arrays\n",
    "NumPy offers a stack of arrays. Stacking means joining the same dimensional arrays along\n",
    "with a new axis. Stacking can be done horizontally, vertically, column-wise, row-wise, or\n",
    "depth-wise:"
   ]
  },
  {
   "cell_type": "code",
   "execution_count": 52,
   "id": "26bdc3a4",
   "metadata": {},
   "outputs": [
    {
     "data": {
      "text/plain": [
       "array([[1, 2, 3],\n",
       "       [4, 5, 6],\n",
       "       [7, 8, 9]])"
      ]
     },
     "execution_count": 52,
     "metadata": {},
     "output_type": "execute_result"
    }
   ],
   "source": [
    "ar1=np.arange(1,10).reshape(3,3)\n",
    "ar1"
   ]
  },
  {
   "cell_type": "code",
   "execution_count": 53,
   "id": "7ad65925",
   "metadata": {},
   "outputs": [
    {
     "data": {
      "text/plain": [
       "array([[11, 12, 13],\n",
       "       [14, 15, 16],\n",
       "       [17, 18, 19]])"
      ]
     },
     "execution_count": 53,
     "metadata": {},
     "output_type": "execute_result"
    }
   ],
   "source": [
    "ar2=np.array([[11,12,13],[14,15,16],[17,18,19]])\n",
    "ar2"
   ]
  },
  {
   "cell_type": "markdown",
   "id": "b09b392b",
   "metadata": {},
   "source": [
    "#### Horizontal stacking:\n",
    "In horizontal stacking, the same dimensional arrays are\n",
    "joined along with a horizontal axis using the hstack() and concatenate()\n",
    "functions."
   ]
  },
  {
   "cell_type": "code",
   "execution_count": 56,
   "id": "71dd8245",
   "metadata": {},
   "outputs": [
    {
     "data": {
      "text/plain": [
       "array([[ 1,  2,  3, 11, 12, 13],\n",
       "       [ 4,  5,  6, 14, 15, 16],\n",
       "       [ 7,  8,  9, 17, 18, 19]])"
      ]
     },
     "execution_count": 56,
     "metadata": {},
     "output_type": "execute_result"
    }
   ],
   "source": [
    "np.hstack((ar1, ar2))"
   ]
  },
  {
   "cell_type": "code",
   "execution_count": 59,
   "id": "f48dbd9c",
   "metadata": {},
   "outputs": [
    {
     "data": {
      "text/plain": [
       "array([[ 1,  2,  3, 11, 12, 13],\n",
       "       [ 4,  5,  6, 14, 15, 16],\n",
       "       [ 7,  8,  9, 17, 18, 19]])"
      ]
     },
     "execution_count": 59,
     "metadata": {},
     "output_type": "execute_result"
    }
   ],
   "source": [
    "#if we dont use axis 1 then it vertical stake\n",
    "np.concatenate((ar1, ar2), axis=1)"
   ]
  },
  {
   "cell_type": "markdown",
   "id": "287a040a",
   "metadata": {},
   "source": [
    "#### Vertical stacking:\n",
    "In vertical stacking, the same dimensional arrays are joined\n",
    "along with a vertical axis using the vstack() and concatenate() functions.\n",
    "Let's see the following example:\n"
   ]
  },
  {
   "cell_type": "code",
   "execution_count": 60,
   "id": "38bc20a4",
   "metadata": {},
   "outputs": [
    {
     "data": {
      "text/plain": [
       "array([[ 1,  2,  3],\n",
       "       [ 4,  5,  6],\n",
       "       [ 7,  8,  9],\n",
       "       [11, 12, 13],\n",
       "       [14, 15, 16],\n",
       "       [17, 18, 19]])"
      ]
     },
     "execution_count": 60,
     "metadata": {},
     "output_type": "execute_result"
    }
   ],
   "source": [
    "np.vstack((ar1, ar2))"
   ]
  },
  {
   "cell_type": "code",
   "execution_count": 61,
   "id": "2d692bd9",
   "metadata": {},
   "outputs": [
    {
     "data": {
      "text/plain": [
       "array([[ 1,  2,  3],\n",
       "       [ 4,  5,  6],\n",
       "       [ 7,  8,  9],\n",
       "       [11, 12, 13],\n",
       "       [14, 15, 16],\n",
       "       [17, 18, 19]])"
      ]
     },
     "execution_count": 61,
     "metadata": {},
     "output_type": "execute_result"
    }
   ],
   "source": [
    "np.concatenate((ar1,ar2))"
   ]
  },
  {
   "cell_type": "markdown",
   "id": "3c203136",
   "metadata": {},
   "source": [
    "#### Depth stacking:\n",
    "In depth stacking, the same dimensional arrays are joined along\n",
    "with a third axis (depth) using the dstack() function. Let's see the following\n",
    "example:"
   ]
  },
  {
   "cell_type": "code",
   "execution_count": 62,
   "id": "04dc8702",
   "metadata": {},
   "outputs": [
    {
     "data": {
      "text/plain": [
       "array([[[ 1, 11],\n",
       "        [ 2, 12],\n",
       "        [ 3, 13]],\n",
       "\n",
       "       [[ 4, 14],\n",
       "        [ 5, 15],\n",
       "        [ 6, 16]],\n",
       "\n",
       "       [[ 7, 17],\n",
       "        [ 8, 18],\n",
       "        [ 9, 19]]])"
      ]
     },
     "execution_count": 62,
     "metadata": {},
     "output_type": "execute_result"
    }
   ],
   "source": [
    "np.dstack((ar1, ar2))"
   ]
  },
  {
   "cell_type": "markdown",
   "id": "4e67a120",
   "metadata": {},
   "source": [
    "#### Column stacking:\n",
    "Column stacking stacks multiple sequence one-dimensional\n",
    "arrays as columns into a single two-dimensional array. Let's see an example of\n",
    "column stacking"
   ]
  },
  {
   "cell_type": "code",
   "execution_count": 69,
   "id": "9c0ba171",
   "metadata": {},
   "outputs": [
    {
     "data": {
      "text/plain": [
       "array([1, 2, 3, 4, 5])"
      ]
     },
     "execution_count": 69,
     "metadata": {},
     "output_type": "execute_result"
    }
   ],
   "source": [
    "a1=np.arange(1,6)\n",
    "a1"
   ]
  },
  {
   "cell_type": "code",
   "execution_count": 66,
   "id": "db5cddb3",
   "metadata": {},
   "outputs": [
    {
     "data": {
      "text/plain": [
       "array([ 6,  7,  8,  9, 10])"
      ]
     },
     "execution_count": 66,
     "metadata": {},
     "output_type": "execute_result"
    }
   ],
   "source": [
    "a2=np.arange(6,11)\n",
    "a2"
   ]
  },
  {
   "cell_type": "code",
   "execution_count": 70,
   "id": "b053b3a9",
   "metadata": {},
   "outputs": [
    {
     "data": {
      "text/plain": [
       "array([[ 1,  6],\n",
       "       [ 2,  7],\n",
       "       [ 3,  8],\n",
       "       [ 4,  9],\n",
       "       [ 5, 10]])"
      ]
     },
     "execution_count": 70,
     "metadata": {},
     "output_type": "execute_result"
    }
   ],
   "source": [
    "np.column_stack((a1,a2))"
   ]
  },
  {
   "cell_type": "markdown",
   "id": "09808169",
   "metadata": {},
   "source": [
    "#### Row stacking:\n",
    "Row stacking stacks multiple sequence one-dimensional arrays as\n",
    "rows into a single two-dimensional arrays. Let's see an example of row stacking:"
   ]
  },
  {
   "cell_type": "code",
   "execution_count": 71,
   "id": "25edb1b2",
   "metadata": {},
   "outputs": [
    {
     "data": {
      "text/plain": [
       "array([[ 1,  2,  3,  4,  5],\n",
       "       [ 6,  7,  8,  9, 10]])"
      ]
     },
     "execution_count": 71,
     "metadata": {},
     "output_type": "execute_result"
    }
   ],
   "source": [
    "np.row_stack((a1,a2))"
   ]
  },
  {
   "cell_type": "markdown",
   "id": "a4966fba",
   "metadata": {},
   "source": [
    "# Partitioning NumPy arrays"
   ]
  },
  {
   "cell_type": "markdown",
   "id": "449660fc",
   "metadata": {},
   "source": [
    "NumPy arrays can be partitioned into multiple sub-arrays. NumPy offers three types of\n",
    "split functionality: vertical, horizontal, and depth-wise. All the split functions by default\n",
    "split into the same size arrays but we can also specify the split location. Let's look at each of\n",
    "the functions in detail"
   ]
  },
  {
   "cell_type": "markdown",
   "id": "756e8416",
   "metadata": {},
   "source": [
    "#### Horizontal splitting:\n",
    "In horizontal split, the given array is divided into N equal\n",
    "sub-arrays along the horizontal axis using the hsplit() function. Let's see how\n",
    "to split an array:"
   ]
  },
  {
   "cell_type": "code",
   "execution_count": 76,
   "id": "a8b41a89",
   "metadata": {},
   "outputs": [
    {
     "data": {
      "text/plain": [
       "array([[1, 2, 3],\n",
       "       [4, 5, 6],\n",
       "       [7, 8, 9]])"
      ]
     },
     "execution_count": 76,
     "metadata": {},
     "output_type": "execute_result"
    }
   ],
   "source": [
    "b=np.arange(1,10).reshape(3,3)\n",
    "b"
   ]
  },
  {
   "cell_type": "code",
   "execution_count": 77,
   "id": "9a749e70",
   "metadata": {},
   "outputs": [
    {
     "data": {
      "text/plain": [
       "[array([[1],\n",
       "        [4],\n",
       "        [7]]),\n",
       " array([[2],\n",
       "        [5],\n",
       "        [8]]),\n",
       " array([[3],\n",
       "        [6],\n",
       "        [9]])]"
      ]
     },
     "execution_count": 77,
     "metadata": {},
     "output_type": "execute_result"
    }
   ],
   "source": [
    "np.hsplit(b,3)"
   ]
  },
  {
   "cell_type": "code",
   "execution_count": 81,
   "id": "5bfa2ec2",
   "metadata": {},
   "outputs": [
    {
     "data": {
      "text/plain": [
       "[array([[1, 2, 3]]), array([[4, 5, 6]]), array([[7, 8, 9]])]"
      ]
     },
     "execution_count": 81,
     "metadata": {},
     "output_type": "execute_result"
    }
   ],
   "source": [
    "np.vsplit(b,3)"
   ]
  },
  {
   "cell_type": "code",
   "execution_count": 84,
   "id": "eb72375c",
   "metadata": {},
   "outputs": [
    {
     "data": {
      "text/plain": [
       "[array([[1, 2, 3]]), array([[4, 5, 6]]), array([[7, 8, 9]])]"
      ]
     },
     "execution_count": 84,
     "metadata": {},
     "output_type": "execute_result"
    }
   ],
   "source": [
    "np.split(b,3)"
   ]
  },
  {
   "cell_type": "code",
   "execution_count": 85,
   "id": "a6e2facc",
   "metadata": {},
   "outputs": [
    {
     "data": {
      "text/plain": [
       "[array([[1],\n",
       "        [4],\n",
       "        [7]]),\n",
       " array([[2],\n",
       "        [5],\n",
       "        [8]]),\n",
       " array([[3],\n",
       "        [6],\n",
       "        [9]])]"
      ]
     },
     "execution_count": 85,
     "metadata": {},
     "output_type": "execute_result"
    }
   ],
   "source": [
    "np.split(b,3, axis=1)"
   ]
  },
  {
   "cell_type": "code",
   "execution_count": null,
   "id": "9cd99e2d",
   "metadata": {},
   "outputs": [],
   "source": []
  },
  {
   "cell_type": "code",
   "execution_count": null,
   "id": "a51ce9bb",
   "metadata": {},
   "outputs": [],
   "source": []
  },
  {
   "cell_type": "code",
   "execution_count": null,
   "id": "4114c9d6",
   "metadata": {},
   "outputs": [],
   "source": []
  },
  {
   "cell_type": "code",
   "execution_count": null,
   "id": "b70cf039",
   "metadata": {},
   "outputs": [],
   "source": []
  }
 ],
 "metadata": {
  "kernelspec": {
   "display_name": "Python 3 (ipykernel)",
   "language": "python",
   "name": "python3"
  },
  "language_info": {
   "codemirror_mode": {
    "name": "ipython",
    "version": 3
   },
   "file_extension": ".py",
   "mimetype": "text/x-python",
   "name": "python",
   "nbconvert_exporter": "python",
   "pygments_lexer": "ipython3",
   "version": "3.9.12"
  }
 },
 "nbformat": 4,
 "nbformat_minor": 5
}
