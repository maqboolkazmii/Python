{
 "cells": [
  {
   "cell_type": "markdown",
   "id": "74666f5f",
   "metadata": {},
   "source": [
    "# For Loop\n"
   ]
  },
  {
   "cell_type": "code",
   "execution_count": 11,
   "id": "d847b151",
   "metadata": {},
   "outputs": [
    {
     "name": "stdout",
     "output_type": "stream",
     "text": [
      "*****\n",
      "****\n",
      "***\n",
      "**\n",
      "*\n",
      "\n",
      "\n",
      "\n",
      "\n",
      "\n"
     ]
    }
   ],
   "source": [
    "for i in range(10):\n",
    "            j=5\n",
    "            k=j-i\n",
    "            a=k*\"*\"\n",
    "            print(a)\n"
   ]
  },
  {
   "cell_type": "code",
   "execution_count": 22,
   "id": "c73d3247",
   "metadata": {},
   "outputs": [
    {
     "name": "stdout",
     "output_type": "stream",
     "text": [
      "Enter the number for which you want to Print Table1234567\n",
      "Table of 1234567\n",
      "0 * 1234567 = 0\n",
      "1 * 1234567 = 1234567\n",
      "2 * 1234567 = 2469134\n",
      "3 * 1234567 = 3703701\n",
      "4 * 1234567 = 4938268\n",
      "5 * 1234567 = 6172835\n",
      "6 * 1234567 = 7407402\n",
      "7 * 1234567 = 8641969\n",
      "8 * 1234567 = 9876536\n",
      "9 * 1234567 = 11111103\n",
      "10 * 1234567 = 12345670\n",
      "11 * 1234567 = 13580237\n",
      "12 * 1234567 = 14814804\n",
      "13 * 1234567 = 16049371\n",
      "14 * 1234567 = 17283938\n",
      "15 * 1234567 = 18518505\n",
      "16 * 1234567 = 19753072\n",
      "17 * 1234567 = 20987639\n",
      "18 * 1234567 = 22222206\n",
      "19 * 1234567 = 23456773\n",
      "20 * 1234567 = 24691340\n"
     ]
    }
   ],
   "source": [
    "a=int(input(\"Enter the number for which you want to Print Table\"))\n",
    "print(\"Table of \"+ str(a) )\n",
    "for i in range(21):\n",
    "    print(str(i)+\" * \"+str(a) +\" = \" + str(i*a))\n"
   ]
  },
  {
   "cell_type": "code",
   "execution_count": 24,
   "id": "41eddb42",
   "metadata": {},
   "outputs": [
    {
     "name": "stdout",
     "output_type": "stream",
     "text": [
      "BlueRay  Zzz\n",
      "BlueRay  Burp\n",
      "BlueRay  Dogbone\n",
      "BlueRay  Droop\n",
      "Upchuck  Zzz\n",
      "Upchuck  Burp\n",
      "Upchuck  Dogbone\n",
      "Upchuck  Droop\n",
      "Lojack  Zzz\n",
      "Lojack  Burp\n",
      "Lojack  Dogbone\n",
      "Lojack  Droop\n",
      "Gizmo  Zzz\n",
      "Gizmo  Burp\n",
      "Gizmo  Dogbone\n",
      "Gizmo  Droop\n",
      "Do-Rag  Zzz\n",
      "Do-Rag  Burp\n",
      "Do-Rag  Dogbone\n",
      "Do-Rag  Droop\n"
     ]
    }
   ],
   "source": [
    "first_names = [\"BlueRay \", \"Upchuck \", \"Lojack \",\n",
    "\"Gizmo \", \"Do-Rag \"]\n",
    "last_names = [\"Zzz\", \"Burp\", \"Dogbone\", \"Droop\"]\n",
    "\n",
    "for names in first_names:\n",
    "    for name in last_names:\n",
    "        print(names +\" \"+name)\n"
   ]
  },
  {
   "cell_type": "code",
   "execution_count": 33,
   "id": "e3bfa390",
   "metadata": {},
   "outputs": [
    {
     "name": "stdout",
     "output_type": "stream",
     "text": [
      "12\n",
      "BlueRay  Zzz\n",
      "13\n",
      "Upchuck  Burp\n",
      "15\n",
      "Lojack  Dogbone\n",
      "12\n",
      "Gizmo  Droop\n",
      "13\n",
      "Do-Rag  Drook\n"
     ]
    }
   ],
   "source": [
    "first_names = [\"BlueRay \", \"Upchuck \", \"Lojack \",\n",
    "\"Gizmo \", \"Do-Rag \"]\n",
    "last_names = [\"Zzz\", \"Burp\", \"Dogbone\", \"Droop\", \"Drook\"]\n",
    "\n",
    "for i in range(len(first_names)):\n",
    "    full_names= first_names[i]+ \" \"+ last_names[i]\n",
    "    print(len(full_names))\n",
    "    print(full_names)\n",
    "    "
   ]
  },
  {
   "cell_type": "code",
   "execution_count": null,
   "id": "b5a4d2f5",
   "metadata": {},
   "outputs": [],
   "source": []
  }
 ],
 "metadata": {
  "kernelspec": {
   "display_name": "Python 3 (ipykernel)",
   "language": "python",
   "name": "python3"
  },
  "language_info": {
   "codemirror_mode": {
    "name": "ipython",
    "version": 3
   },
   "file_extension": ".py",
   "mimetype": "text/x-python",
   "name": "python",
   "nbconvert_exporter": "python",
   "pygments_lexer": "ipython3",
   "version": "3.9.12"
  }
 },
 "nbformat": 4,
 "nbformat_minor": 5
}
