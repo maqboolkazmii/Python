{
 "cells": [
  {
   "cell_type": "markdown",
   "id": "7b1a4d9c",
   "metadata": {},
   "source": [
    "#### Table of content\n",
    "- List\n",
    "- List manupulation\n",
    "- Function for list manupulation\n",
    "- concontinaiton\n",
    "- slicing\n",
    "- Deletion and remival of items\n",
    "- List poping\n",
    "- String manupulation"
   ]
  },
  {
   "cell_type": "markdown",
   "id": "81548f6a",
   "metadata": {},
   "source": [
    "# List"
   ]
  },
  {
   "cell_type": "code",
   "execution_count": 1,
   "id": "1d0db85d",
   "metadata": {},
   "outputs": [],
   "source": [
    "Fruit=[\"Apple\", \"Banana\", \"Grape\", \"Malta\", \"Kino\"]\n",
    "Stationary=[\"Pen\", \"Pencil\", \"Notebook\",\"Rubber\"]"
   ]
  },
  {
   "cell_type": "markdown",
   "id": "49736bdb",
   "metadata": {},
   "source": [
    "- list store the many item name in single variable.\n",
    "- List have index number to store item name.\n",
    "- index number start from 0.\n"
   ]
  },
  {
   "cell_type": "markdown",
   "id": "dbddbfa7",
   "metadata": {},
   "source": [
    "##  List manupulation"
   ]
  },
  {
   "cell_type": "code",
   "execution_count": 4,
   "id": "efc9d6a8",
   "metadata": {},
   "outputs": [
    {
     "name": "stdout",
     "output_type": "stream",
     "text": [
      "Apple\n",
      "Rubber\n"
     ]
    }
   ],
   "source": [
    "print(Fruit[0])\n",
    "print(Stationary[3])"
   ]
  },
  {
   "cell_type": "markdown",
   "id": "6c5b075b",
   "metadata": {},
   "source": [
    "## append()\n",
    "append() is used to add items in the list.In list item will be added al last of the list."
   ]
  },
  {
   "cell_type": "code",
   "execution_count": 6,
   "id": "741ec66a",
   "metadata": {},
   "outputs": [
    {
     "data": {
      "text/plain": [
       "['Apple', 'Banana', 'Grape', 'Malta', 'Kino', 'Pear', 'Pear']"
      ]
     },
     "execution_count": 6,
     "metadata": {},
     "output_type": "execute_result"
    }
   ],
   "source": [
    "Fruit.append(\"Pear\")\n",
    "Fruit"
   ]
  },
  {
   "cell_type": "markdown",
   "id": "4865cf2d",
   "metadata": {},
   "source": [
    "## Insert()\n",
    "insert function is used to insert the item of list in specific location of list.\n",
    "ie **list.insert(3, \"pen\")** \n",
    "It insert the pen at index 3 of the list."
   ]
  },
  {
   "cell_type": "code",
   "execution_count": 10,
   "id": "a12007a6",
   "metadata": {},
   "outputs": [
    {
     "data": {
      "text/plain": [
       "['Pen', 'Pencil', 'Marker', 'Marker', 'Notebook', 'Rubber']"
      ]
     },
     "execution_count": 10,
     "metadata": {},
     "output_type": "execute_result"
    }
   ],
   "source": [
    "Stationary.insert(2,\"Marker\")\n",
    "Stationary"
   ]
  },
  {
   "cell_type": "markdown",
   "id": "fa61826b",
   "metadata": {},
   "source": [
    "## Concontination\n",
    "concontination is the merging of two list."
   ]
  },
  {
   "cell_type": "code",
   "execution_count": 11,
   "id": "15bb28d3",
   "metadata": {},
   "outputs": [
    {
     "data": {
      "text/plain": [
       "['Apple',\n",
       " 'Banana',\n",
       " 'Grape',\n",
       " 'Malta',\n",
       " 'Kino',\n",
       " 'Pear',\n",
       " 'Pear',\n",
       " 'Pen',\n",
       " 'Pencil',\n",
       " 'Marker',\n",
       " 'Marker',\n",
       " 'Notebook',\n",
       " 'Rubber']"
      ]
     },
     "execution_count": 11,
     "metadata": {},
     "output_type": "execute_result"
    }
   ],
   "source": [
    "items= Fruit+ Stationary\n",
    "items"
   ]
  },
  {
   "cell_type": "code",
   "execution_count": 12,
   "id": "5c4bb056",
   "metadata": {},
   "outputs": [
    {
     "data": {
      "text/plain": [
       "['Apple',\n",
       " 'Banana',\n",
       " 'Grape',\n",
       " 'Malta',\n",
       " 'Kino',\n",
       " 'Pear',\n",
       " 'Pear',\n",
       " 'Pen',\n",
       " 'Pencil',\n",
       " 'Marker',\n",
       " 'Marker',\n",
       " 'Notebook',\n",
       " 'Rubber',\n",
       " 'Heater',\n",
       " 'Blanket',\n",
       " 'Sofa',\n",
       " 'chairs']"
      ]
     },
     "execution_count": 12,
     "metadata": {},
     "output_type": "execute_result"
    }
   ],
   "source": [
    "items= items + [\"Heater\", \"Blanket\", \"Sofa\", \"chairs\"]\n",
    "items"
   ]
  },
  {
   "cell_type": "markdown",
   "id": "a44debe1",
   "metadata": {},
   "source": [
    "## len()\n",
    "len() function is used to find the length of list."
   ]
  },
  {
   "cell_type": "code",
   "execution_count": 15,
   "id": "dc7ebe42",
   "metadata": {},
   "outputs": [
    {
     "data": {
      "text/plain": [
       "17"
      ]
     },
     "execution_count": 15,
     "metadata": {},
     "output_type": "execute_result"
    }
   ],
   "source": [
    "len(items)"
   ]
  },
  {
   "cell_type": "markdown",
   "id": "e16a80f9",
   "metadata": {},
   "source": [
    "## Slicing\n",
    "Slicing means to take some items from list."
   ]
  },
  {
   "cell_type": "code",
   "execution_count": 16,
   "id": "bb8ce50d",
   "metadata": {},
   "outputs": [
    {
     "data": {
      "text/plain": [
       "['Apple',\n",
       " 'Banana',\n",
       " 'Grape',\n",
       " 'Malta',\n",
       " 'Kino',\n",
       " 'Pear',\n",
       " 'Pear',\n",
       " 'Pen',\n",
       " 'Pencil',\n",
       " 'Marker',\n",
       " 'Marker',\n",
       " 'Notebook',\n",
       " 'Rubber',\n",
       " 'Heater',\n",
       " 'Blanket',\n",
       " 'Sofa',\n",
       " 'chairs']"
      ]
     },
     "execution_count": 16,
     "metadata": {},
     "output_type": "execute_result"
    }
   ],
   "source": [
    "items"
   ]
  },
  {
   "cell_type": "code",
   "execution_count": 18,
   "id": "0d54d7c1",
   "metadata": {},
   "outputs": [
    {
     "data": {
      "text/plain": [
       "['Grape', 'Malta', 'Kino']"
      ]
     },
     "execution_count": 18,
     "metadata": {},
     "output_type": "execute_result"
    }
   ],
   "source": [
    "items[2:5]"
   ]
  },
  {
   "cell_type": "code",
   "execution_count": 21,
   "id": "7bc73cd1",
   "metadata": {},
   "outputs": [
    {
     "data": {
      "text/plain": [
       "['Grape', 'Pear', 'Pencil', 'Notebook', 'Blanket']"
      ]
     },
     "execution_count": 21,
     "metadata": {},
     "output_type": "execute_result"
    }
   ],
   "source": [
    "items[2:15:3]"
   ]
  },
  {
   "cell_type": "code",
   "execution_count": 23,
   "id": "f999ca5d",
   "metadata": {},
   "outputs": [],
   "source": [
    "number=[1, 2, 3, 4, 5, 6, 7, 8, 9, 10,11, 12, 13, 14, 15, 16]"
   ]
  },
  {
   "cell_type": "code",
   "execution_count": 25,
   "id": "b3b0209e",
   "metadata": {},
   "outputs": [
    {
     "data": {
      "text/plain": [
       "16"
      ]
     },
     "execution_count": 25,
     "metadata": {},
     "output_type": "execute_result"
    }
   ],
   "source": [
    "number[-1]"
   ]
  },
  {
   "cell_type": "code",
   "execution_count": 32,
   "id": "4c77f9a4",
   "metadata": {},
   "outputs": [
    {
     "data": {
      "text/plain": [
       "[5, 6, 7, 8, 9, 10, 11, 12, 13, 14, 15]"
      ]
     },
     "execution_count": 32,
     "metadata": {},
     "output_type": "execute_result"
    }
   ],
   "source": [
    "number[-12:-1]"
   ]
  },
  {
   "cell_type": "code",
   "execution_count": 35,
   "id": "4345a886",
   "metadata": {},
   "outputs": [
    {
     "data": {
      "text/plain": [
       "[2, 5, 8, 11, 14]"
      ]
     },
     "execution_count": 35,
     "metadata": {},
     "output_type": "execute_result"
    }
   ],
   "source": [
    "number[1:15:3]"
   ]
  },
  {
   "cell_type": "code",
   "execution_count": 37,
   "id": "0b3b4ea1",
   "metadata": {},
   "outputs": [
    {
     "data": {
      "text/plain": [
       "[3, 4, 5, 6, 7, 8, 9, 10, 11, 12, 13, 14, 15, 16]"
      ]
     },
     "execution_count": 37,
     "metadata": {},
     "output_type": "execute_result"
    }
   ],
   "source": [
    "number[2:]"
   ]
  },
  {
   "cell_type": "code",
   "execution_count": 38,
   "id": "e54ba30d",
   "metadata": {},
   "outputs": [
    {
     "data": {
      "text/plain": [
       "[1, 2, 3, 4, 5, 6, 7, 8, 9, 10, 11, 12, 13, 14, 15]"
      ]
     },
     "execution_count": 38,
     "metadata": {},
     "output_type": "execute_result"
    }
   ],
   "source": [
    "number[:-1]"
   ]
  },
  {
   "cell_type": "markdown",
   "id": "5238759d",
   "metadata": {},
   "source": [
    "## Deleting and removing elements\n",
    "- To delete items from the list use del key word . This keyword remove the item by index number.\n",
    "- remove is used to remove item by string."
   ]
  },
  {
   "cell_type": "code",
   "execution_count": 40,
   "id": "bfcdaa0e",
   "metadata": {},
   "outputs": [
    {
     "data": {
      "text/plain": [
       "['Morning Excercise', 'Go to College', 'Hangout with friend']"
      ]
     },
     "execution_count": 40,
     "metadata": {},
     "output_type": "execute_result"
    }
   ],
   "source": [
    "list_of_task = [\"Morning Excercise\", \"Go to College\", \"Hangout with friend\"]\n",
    "list_of_task"
   ]
  },
  {
   "cell_type": "code",
   "execution_count": 42,
   "id": "8f997513",
   "metadata": {},
   "outputs": [
    {
     "data": {
      "text/plain": [
       "['Go to College', 'Hangout with friend']"
      ]
     },
     "execution_count": 42,
     "metadata": {},
     "output_type": "execute_result"
    }
   ],
   "source": [
    "del list_of_task[0]\n",
    "list_of_task"
   ]
  },
  {
   "cell_type": "code",
   "execution_count": 43,
   "id": "000885e9",
   "metadata": {},
   "outputs": [
    {
     "data": {
      "text/plain": [
       "['Hangout with friend']"
      ]
     },
     "execution_count": 43,
     "metadata": {},
     "output_type": "execute_result"
    }
   ],
   "source": [
    "list_of_task.remove(\"Go to College\")\n",
    "list_of_task"
   ]
  },
  {
   "cell_type": "code",
   "execution_count": 44,
   "id": "713fd555",
   "metadata": {},
   "outputs": [
    {
     "data": {
      "text/plain": [
       "[]"
      ]
     },
     "execution_count": 44,
     "metadata": {},
     "output_type": "execute_result"
    }
   ],
   "source": [
    "del list_of_task[0]\n",
    "list_of_task"
   ]
  },
  {
   "cell_type": "markdown",
   "id": "970c1754",
   "metadata": {},
   "source": [
    "## Lists: popping elements"
   ]
  },
  {
   "cell_type": "code",
   "execution_count": 62,
   "id": "5ddd42c2",
   "metadata": {},
   "outputs": [
    {
     "data": {
      "text/plain": [
       "['Morning Excercise',\n",
       " 'Call parents',\n",
       " 'Breakfast',\n",
       " 'Go to College',\n",
       " 'Hangout with friend']"
      ]
     },
     "execution_count": 62,
     "metadata": {},
     "output_type": "execute_result"
    }
   ],
   "source": [
    "list_of_task = [\"Morning Excercise\",\"Call parents\", \"Breakfast\", \"Go to College\", \"Hangout with friend\"]\n",
    "list_of_task"
   ]
  },
  {
   "cell_type": "code",
   "execution_count": 63,
   "id": "1e44a6c5",
   "metadata": {},
   "outputs": [
    {
     "data": {
      "text/plain": [
       "'Call parents'"
      ]
     },
     "execution_count": 63,
     "metadata": {},
     "output_type": "execute_result"
    }
   ],
   "source": [
    "accomplised_task=list_of_task.pop(1)\n",
    "-"
   ]
  },
  {
   "cell_type": "markdown",
   "id": "686b22a2",
   "metadata": {},
   "source": [
    "# Tuple\n",
    "Tuple is also a from of list but it is immuttable.\n",
    "- nither we insert or append item in nor we delete any item."
   ]
  },
  {
   "cell_type": "code",
   "execution_count": 64,
   "id": "e09cba62",
   "metadata": {},
   "outputs": [
    {
     "data": {
      "text/plain": [
       "('English', 'urdu', 'math')"
      ]
     },
     "execution_count": 64,
     "metadata": {},
     "output_type": "execute_result"
    }
   ],
   "source": [
    "bookOFCalssOne= (\"English\", \"urdu\", \"math\")\n",
    "bookOFCalssOne"
   ]
  },
  {
   "cell_type": "code",
   "execution_count": 67,
   "id": "fe4f035d",
   "metadata": {},
   "outputs": [
    {
     "data": {
      "text/plain": [
       "('urdu', 'math')"
      ]
     },
     "execution_count": 67,
     "metadata": {},
     "output_type": "execute_result"
    }
   ],
   "source": [
    "bookOFCalssOne[1:]"
   ]
  },
  {
   "cell_type": "markdown",
   "id": "b1b72ca2",
   "metadata": {},
   "source": [
    "## String manupulation"
   ]
  },
  {
   "cell_type": "code",
   "execution_count": 12,
   "id": "9216654b",
   "metadata": {},
   "outputs": [
    {
     "data": {
      "text/plain": [
       "'I am xyz.I belog to islamabad pakstan.I am a computer Scientist.'"
      ]
     },
     "execution_count": 12,
     "metadata": {},
     "output_type": "execute_result"
    }
   ],
   "source": [
    "intro = \"I am xyz.I belog to islamabad pakstan.I am a computer Scientist.\"\n",
    "intro"
   ]
  },
  {
   "cell_type": "code",
   "execution_count": 13,
   "id": "8b015e43",
   "metadata": {},
   "outputs": [
    {
     "data": {
      "text/plain": [
       "'I AM XYZ.I BELOG TO ISLAMABAD PAKSTAN.I AM A COMPUTER SCIENTIST.'"
      ]
     },
     "execution_count": 13,
     "metadata": {},
     "output_type": "execute_result"
    }
   ],
   "source": [
    "intro.upper()"
   ]
  },
  {
   "cell_type": "code",
   "execution_count": 18,
   "id": "b008cb16",
   "metadata": {},
   "outputs": [
    {
     "data": {
      "text/plain": [
       "2"
      ]
     },
     "execution_count": 18,
     "metadata": {},
     "output_type": "execute_result"
    }
   ],
   "source": [
    "intro.count(\"I am\")"
   ]
  },
  {
   "cell_type": "code",
   "execution_count": 19,
   "id": "1df26c93",
   "metadata": {},
   "outputs": [
    {
     "data": {
      "text/plain": [
       "'i am xyz.i belog to islamabad pakstan.i am a computer scientist.'"
      ]
     },
     "execution_count": 19,
     "metadata": {},
     "output_type": "execute_result"
    }
   ],
   "source": [
    "intro.lower()"
   ]
  },
  {
   "cell_type": "code",
   "execution_count": 21,
   "id": "800ded57",
   "metadata": {},
   "outputs": [
    {
     "data": {
      "text/plain": [
       "'I am xyz.I belog to islamabad pakstan.I am a computer Scientist.'"
      ]
     },
     "execution_count": 21,
     "metadata": {},
     "output_type": "execute_result"
    }
   ],
   "source": [
    "intro.format()"
   ]
  },
  {
   "cell_type": "code",
   "execution_count": 24,
   "id": "c28e0e8a",
   "metadata": {},
   "outputs": [],
   "source": [
    "a=intro.split(\" \")"
   ]
  },
  {
   "cell_type": "code",
   "execution_count": 26,
   "id": "d4e52198",
   "metadata": {},
   "outputs": [
    {
     "data": {
      "text/plain": [
       "'belog'"
      ]
     },
     "execution_count": 26,
     "metadata": {},
     "output_type": "execute_result"
    }
   ],
   "source": [
    "a[3]"
   ]
  }
 ],
 "metadata": {
  "kernelspec": {
   "display_name": "Python 3 (ipykernel)",
   "language": "python",
   "name": "python3"
  },
  "language_info": {
   "codemirror_mode": {
    "name": "ipython",
    "version": 3
   },
   "file_extension": ".py",
   "mimetype": "text/x-python",
   "name": "python",
   "nbconvert_exporter": "python",
   "pygments_lexer": "ipython3",
   "version": "3.9.12"
  },
  "vscode": {
   "interpreter": {
    "hash": "f913ba3e57e76821e421a89bd7bb9694390d9cda7e9a881ba7e93febeab53170"
   }
  }
 },
 "nbformat": 4,
 "nbformat_minor": 5
}
