{
 "cells": [
  {
   "cell_type": "markdown",
   "metadata": {},
   "source": [
    "# OOP concepts\n",
    "Object-Oriented Programming (OOP) is a programming paradigm that uses objects and classes to structure code. Here's key concepts of OOP:"
   ]
  },
  {
   "cell_type": "markdown",
   "metadata": {},
   "source": [
    "\n",
    "\n",
    "\n",
    "\n",
    "\n",
    "\n",
    "\n",
    "### Encapsulation: \n",
    "Encapsulation is the concept of bundling data (attributes) and methods (functions) that operate on that data into a single unit (a class). It also involves restricting access to some of the object's components to prevent unintended interference. Access specifiers like private, protected, and public control the visibility of class members.\n",
    "\n",
    "### Abstraction: \n",
    "Abstraction is the process of simplifying complex systems by breaking them into smaller, more manageable parts. In OOP, classes provide a level of abstraction by hiding the internal details of how objects work. Users of a class only need to know how to interact with its methods and properties.\n",
    "\n",
    "### Composition: \n",
    "Composition involves creating complex objects by combining simpler objects or classes. It's an alternative to inheritance, where you can build objects with the functionality of multiple classes by including instances of those classes as attributes within another class.\n",
    "\n",
    "### Constructor and Destructor: \n",
    "Constructors are special methods that initialize object attributes when an object is created. Destructors, on the other hand, are used to clean up resources when an object is destroyed (usually when it goes out of scope)."
   ]
  },
  {
   "cell_type": "markdown",
   "metadata": {},
   "source": [
    "### Classes: \n",
    "A class is a blueprint or a template for creating objects. It defines the attributes (data members) and methods (functions) that objects of the class will have.\n",
    "\n",
    "### Objects: \n",
    "Objects are instances of classes. They represent real-world entities and encapsulate both data (attributes) and behavior (methods). Each object created from a class can have its own unique data while sharing the same methods.\n",
    "\n",
    "### Attributes (Instance Variables):\n",
    " Attributes are variables that store data specific to an object. They are defined within a class and represent the object's characteristics. For example, in a Car class, attributes could include color, make, and model.\n",
    "\n",
    "### Methods (Member Functions): \n",
    "Methods are functions defined within a class that operate on the class's attributes and perform actions related to the object. For example, in a Car class, methods could include start_engine() and stop_engine()."
   ]
  },
  {
   "cell_type": "code",
   "execution_count": 13,
   "metadata": {},
   "outputs": [
    {
     "name": "stdout",
     "output_type": "stream",
     "text": [
      "BMW\n",
      "False\n",
      "Starting Red BMW\n",
      "Red BMW already Started\n",
      "BMW has Stoped\n",
      "BMW has already Stoped\n"
     ]
    }
   ],
   "source": [
    "class Car():\n",
    "    def __init__(self, carName, carColour):\n",
    "        self.carName = carName\n",
    "        self.carColour = carColour\n",
    "        self.started = False\n",
    "    \n",
    "\n",
    "    def start(self):\n",
    "        if not self.started:\n",
    "            print(self.started)\n",
    "            print(f\"Starting {self.carColour} {self.carName}\")\n",
    "            self.started = True\n",
    "        else:\n",
    "            print(f\"{self.carColour} {self.carName} already Started\")\n",
    "\n",
    "    def stop(self):\n",
    "        if self.started:\n",
    "            print(f\"{self.carName} has Stoped\")\n",
    "            self.started = False\n",
    "        else:\n",
    "            print(f\"{self.carName} has already Stoped\")\n",
    "\n",
    "# creating An object of calss\n",
    "car1 = Car(\"BMW\",\"Red\")  \n",
    "\n",
    "#acessing attribute and Method\n",
    "print(car1.carName)\n",
    "car1.start()\n",
    "car1.start()\n",
    "car1.stop()\n",
    "car1.stop()\n",
    "      "
   ]
  },
  {
   "cell_type": "markdown",
   "metadata": {},
   "source": [
    "### Inheritance: \n",
    "Inheritance allows you to create a new class that inherits attributes and methods from an existing class (the parent or base class). This promotes code reuse and the creation of specialized classes. The new class is called a subclass or derived class.\n"
   ]
  },
  {
   "cell_type": "code",
   "execution_count": 21,
   "metadata": {},
   "outputs": [
    {
     "name": "stdout",
     "output_type": "stream",
     "text": [
      "German sheferd speaks woof\n",
      "Persian speaks Meow\n"
     ]
    }
   ],
   "source": [
    "class Animal:\n",
    "    def __init__(self, name):\n",
    "        self.name = name\n",
    "\n",
    "    def speak(self):\n",
    "        pass\n",
    "\n",
    "class Dog(Animal):\n",
    "    def speak(self):\n",
    "        return f'{self.name} speaks woof'\n",
    "class Cat(Animal):\n",
    "    def speak(self):\n",
    "        return f'{self.name} speaks Meow'\n",
    "    \n",
    "dog =Dog(\"German sheferd\")\n",
    "print(dog.speak())\n",
    "\n",
    "cat = Cat(\"Persian\")\n",
    "print(cat.speak())"
   ]
  },
  {
   "cell_type": "markdown",
   "metadata": {},
   "source": [
    "### Polymorphism:\n",
    " Polymorphism allows objects of different classes to be treated as objects of a common superclass. It enables you to write code that can work with objects of multiple related classes in a consistent way. Polymorphism is often achieved through method overriding and interfaces/abstract classes in some languages."
   ]
  }
 ],
 "metadata": {
  "kernelspec": {
   "display_name": "Python 3",
   "language": "python",
   "name": "python3"
  },
  "language_info": {
   "codemirror_mode": {
    "name": "ipython",
    "version": 3
   },
   "file_extension": ".py",
   "mimetype": "text/x-python",
   "name": "python",
   "nbconvert_exporter": "python",
   "pygments_lexer": "ipython3",
   "version": "3.10.7"
  },
  "orig_nbformat": 4
 },
 "nbformat": 4,
 "nbformat_minor": 2
}
