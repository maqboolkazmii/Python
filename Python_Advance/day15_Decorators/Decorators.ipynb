{
 "cells": [
  {
   "cell_type": "markdown",
   "metadata": {},
   "source": [
    "# Decorators\n",
    "\n",
    "- Decorator is a design pattern that allows you to modify the functionality of a function by wrapping it in another function.\n",
    "-  The outer function is called the decorator, which takes the original function as an argument and returns a modified version of it."
   ]
  },
  {
   "cell_type": "markdown",
   "metadata": {},
   "source": [
    "## Function Basics:\n",
    "\n",
    "- A function is a block of organized, reusable code.\n",
    "- In Python, functions are first-class citizens, meaning they can be treated like any other object.\n",
    "## Nested Functions:\n",
    "\n",
    "- Functions can be defined inside other functions.\n",
    "- These nested functions are also known as inner functions."
   ]
  },
  {
   "cell_type": "code",
   "execution_count": 8,
   "metadata": {},
   "outputs": [
    {
     "name": "stdout",
     "output_type": "stream",
     "text": [
      "13\n"
     ]
    }
   ],
   "source": [
    "from typing import Callable\n",
    "\n",
    "def outer_fun( x : int )-> Callable :\n",
    "    def inner_fun(y : int ) -> int:\n",
    "        return x + y\n",
    "    return inner_fun\n",
    "\n",
    "\n",
    "out = outer_fun(5)\n",
    "res =out(8)\n",
    "print(res)"
   ]
  },
  {
   "cell_type": "code",
   "execution_count": 11,
   "metadata": {},
   "outputs": [
    {
     "data": {
      "text/plain": [
       "<function __main__.outer_fun.<locals>.inner_fun(y: int) -> int>"
      ]
     },
     "execution_count": 11,
     "metadata": {},
     "output_type": "execute_result"
    }
   ],
   "source": [
    "outer_fun(3)"
   ]
  },
  {
   "cell_type": "markdown",
   "metadata": {},
   "source": [
    "## Function as a Parameter:\n",
    "\n",
    "- Functions can be passed as arguments to other functions.\n",
    "- This is useful for higher-order functions."
   ]
  },
  {
   "cell_type": "code",
   "execution_count": 12,
   "metadata": {},
   "outputs": [
    {
     "data": {
      "text/plain": [
       "4"
      ]
     },
     "execution_count": 12,
     "metadata": {},
     "output_type": "execute_result"
    }
   ],
   "source": [
    "def add(x : int , y : int) ->int:\n",
    "    return x + y\n",
    "\n",
    "def fun_add(func: Callable, a : int, b : int) ->int:\n",
    "    return func(a, b)\n",
    "\n",
    "\n",
    "fun_add(add , 1 ,3)\n",
    "\n"
   ]
  },
  {
   "cell_type": "markdown",
   "metadata": {},
   "source": [
    "## Return a Function as a Value\n",
    "- In Python, we can also return a function as a return value."
   ]
  },
  {
   "cell_type": "code",
   "execution_count": 18,
   "metadata": {},
   "outputs": [
    {
     "data": {
      "text/plain": [
       "'My name is Maqbool.'"
      ]
     },
     "execution_count": 18,
     "metadata": {},
     "output_type": "execute_result"
    }
   ],
   "source": [
    "def intro(nam : str)-> Callable:\n",
    "    def name() -> str:\n",
    "        return f\"My name is {nam}.\"\n",
    "    return name\n",
    "\n",
    "introduction = intro(\"Maqbool\")\n",
    "introduction()"
   ]
  },
  {
   "cell_type": "markdown",
   "metadata": {},
   "source": [
    "## Python Decorators\n",
    "\n",
    "- object which implements the special __call__() method is termed callable.\n",
    "-  decorator is a callable that returns a callable.\n",
    "\n",
    "- Basically, a decorator takes in a function, adds some functionality and returns it."
   ]
  },
  {
   "cell_type": "code",
   "execution_count": 24,
   "metadata": {},
   "outputs": [
    {
     "name": "stdout",
     "output_type": "stream",
     "text": [
      "Inner Function call\n",
      "Second Function call\n"
     ]
    }
   ],
   "source": [
    "def outer(fun : Callable) ->Callable:\n",
    "    def inner():\n",
    "        print(\"Inner Function call\") \n",
    "        fun()\n",
    "    \n",
    "    return inner\n",
    "\n",
    "\n",
    "def second_fun()-> str:\n",
    "    print( \"Second Function call\")\n",
    "\n",
    "calling_fun =outer(second_fun)\n",
    "\n",
    "calling_fun()"
   ]
  },
  {
   "cell_type": "code",
   "execution_count": 23,
   "metadata": {},
   "outputs": [
    {
     "name": "stdout",
     "output_type": "stream",
     "text": [
      "I got decorated\n",
      "I am ordinary\n"
     ]
    }
   ],
   "source": [
    "def make_pretty(func):\n",
    "    # define the inner function \n",
    "    def inner():\n",
    "        # add some additional behavior to decorated function\n",
    "        print(\"I got decorated\")\n",
    "\n",
    "        # call original function\n",
    "        func()\n",
    "    # return the inner function\n",
    "    return inner\n",
    "\n",
    "# define ordinary function\n",
    "def ordinary():\n",
    "    print(\"I am ordinary\")\n",
    "    \n",
    "# decorate the ordinary function\n",
    "decorated_func = make_pretty(ordinary)\n",
    "\n",
    "# call the decorated function\n",
    "decorated_func()"
   ]
  },
  {
   "cell_type": "markdown",
   "metadata": {},
   "source": [
    "## @ Symbol With Decorator\n",
    "- Instead of assigning the function call to a variable, Python provides a much more elegant way to achieve this functionality using the @ symbol.\n",
    "- @outer syntax, which is equivalent to calling calling_fun =outer(second_fun)."
   ]
  },
  {
   "cell_type": "code",
   "execution_count": 26,
   "metadata": {},
   "outputs": [
    {
     "name": "stdout",
     "output_type": "stream",
     "text": [
      "Inner Function call\n",
      "Second Function call\n"
     ]
    }
   ],
   "source": [
    "def outer(fun : Callable) ->Callable:\n",
    "    def inner():\n",
    "        print(\"Inner Function call\") \n",
    "        fun()\n",
    "    \n",
    "    return inner\n",
    "\n",
    "@outer\n",
    "def second_fun()-> None:\n",
    "    print( \"Second Function call\")\n",
    "\n",
    "# calling_fun =outer(second_fun)\n",
    "# calling_fun()                                  #with @ we skip two parts\n",
    "\n",
    "second_fun()"
   ]
  },
  {
   "cell_type": "markdown",
   "metadata": {},
   "source": [
    "## Decorating Functions with Parameters"
   ]
  },
  {
   "cell_type": "code",
   "execution_count": 32,
   "metadata": {},
   "outputs": [
    {
     "name": "stdout",
     "output_type": "stream",
     "text": [
      "Cannot divide with 0\n"
     ]
    }
   ],
   "source": [
    "def smartdivision(fun : Callable)-> Callable:\n",
    "    def innerFun(x : float, y : float)->Callable:\n",
    "        if y == 0:\n",
    "            print(\"Cannot divide with 0\")\n",
    "            return\n",
    "        return fun(x, y)\n",
    "    return innerFun\n",
    "\n",
    "\n",
    "\n",
    "@smartdivision\n",
    "def divide(a : float, b : float)-> None:\n",
    "    print(a/b)\n",
    "\n",
    "divide(2,0)"
   ]
  },
  {
   "cell_type": "code",
   "execution_count": 30,
   "metadata": {},
   "outputs": [
    {
     "name": "stdout",
     "output_type": "stream",
     "text": [
      "I am going to divide 2 and 5\n",
      "0.4\n",
      "I am going to divide 2 and 0\n",
      "Whoops! cannot divide\n"
     ]
    }
   ],
   "source": [
    "def smart_divide(func):\n",
    "    def inner(x, y):\n",
    "        print(\"I am going to divide\", x, \"and\", y)\n",
    "        if y == 0:\n",
    "            print(\"Whoops! cannot divide\")\n",
    "            return\n",
    "\n",
    "        return func(x, y)\n",
    "    return inner\n",
    "\n",
    "@smart_divide\n",
    "def divide(a, b):\n",
    "    print(a/b)\n",
    "\n",
    "divide(2,5)\n",
    "\n",
    "divide(2,0)"
   ]
  },
  {
   "cell_type": "markdown",
   "metadata": {},
   "source": [
    "## Chaining Decorators in Python\n",
    "- Multiple decorators can be chained in Python.\n",
    "\n",
    "- we can apply multiple decorators to a single function by placing them one after the other.\n",
    "- with the most inner decorator being applied first."
   ]
  },
  {
   "cell_type": "code",
   "execution_count": 39,
   "metadata": {},
   "outputs": [
    {
     "data": {
      "text/plain": [
       "<function __main__.star.<locals>.inner()>"
      ]
     },
     "execution_count": 39,
     "metadata": {},
     "output_type": "execute_result"
    }
   ],
   "source": [
    "def percent(fun):\n",
    "    def inner():\n",
    "        print(\"%%%%%%\")\n",
    "        fun()\n",
    "        print(\"%%%%%%\")\n",
    "    return inner\n",
    "\n",
    "def star(func):\n",
    "    def inner():\n",
    "        print(\"*****\")\n",
    "        func()\n",
    "        print(\"*****\")\n",
    "    return inner\n",
    "\n",
    "@star \n",
    "@percent\n",
    "def printer():\n",
    "    print(\"HEllo\")\n",
    "\n",
    "printer"
   ]
  },
  {
   "cell_type": "code",
   "execution_count": 40,
   "metadata": {},
   "outputs": [
    {
     "name": "stdout",
     "output_type": "stream",
     "text": [
      "***************\n",
      "%%%%%%%%%%%%%%%\n",
      "Hello\n",
      "%%%%%%%%%%%%%%%\n",
      "***************\n"
     ]
    }
   ],
   "source": [
    "def star(func):\n",
    "    def inner(*args, **kwargs):\n",
    "        print(\"*\" * 15)\n",
    "        func(*args, **kwargs)\n",
    "        print(\"*\" * 15)\n",
    "    return inner\n",
    "\n",
    "\n",
    "def percent(func):\n",
    "    def inner(*args, **kwargs):\n",
    "        print(\"%\" * 15)\n",
    "        func(*args, **kwargs)\n",
    "        print(\"%\" * 15)\n",
    "    return inner\n",
    "\n",
    "\n",
    "@star\n",
    "@percent\n",
    "def printer(msg):\n",
    "    print(msg)\n",
    "\n",
    "printer(\"Hello\")"
   ]
  },
  {
   "cell_type": "code",
   "execution_count": 41,
   "metadata": {},
   "outputs": [
    {
     "name": "stdout",
     "output_type": "stream",
     "text": [
      "Hello, Alice!\n",
      "Hello, Alice!\n",
      "Hello, Alice!\n"
     ]
    }
   ],
   "source": [
    "def repeat(n):\n",
    "    def decorator_function(original_function):\n",
    "        def wrapper_function(*args, **kwargs):\n",
    "            for _ in range(n):\n",
    "                original_function(*args, **kwargs)\n",
    "        return wrapper_function\n",
    "    return decorator_function\n",
    "\n",
    "@repeat(3)\n",
    "def greet(name):\n",
    "    print(f\"Hello, {name}!\")\n",
    "\n",
    "greet(\"Alice\")\n"
   ]
  },
  {
   "cell_type": "markdown",
   "metadata": {},
   "source": [
    "**Advantages of Decorators in Python:**\n",
    "\n",
    "- **Code Reusability:** Reuse functionality across multiple functions.\n",
    "- **Cleaner Code:** Enhance readability by separating concerns.\n",
    "- **Dynamic Behavior:** Dynamically alter function behavior without changing code.\n",
    "- **Code Modularity:** Easily add or remove functionality.\n",
    "- **Separation of Concerns:** Independent handling of different aspects of functionality.\n",
    "- **Promotes Aspect-Oriented Programming:** Add cross-cutting concerns.\n",
    "- **Framework Integration:** Widely used in frameworks and libraries.\n",
    "\n",
    "**Disadvantages of Decorators in Python:**\n",
    "\n",
    "- **Decorator Stack Order:** Order matters; understanding stack order is crucial.\n",
    "- **Debugging Complexity:** Debugging can be challenging due to added layers.\n",
    "- **Hidden Behavior:** Decorators may obscure functionality in source code.\n",
    "- **Potential Overuse:** Unnecessary complexity in small projects or simple functions.\n",
    "- **Learning Curve:** Understanding closures and higher-order functions might pose a learning curve.\n",
    "\n",
    "**Daily Life Example with Bullet Points:**\n",
    "\n",
    "- **Advantage: Code Reusability**\n",
    "  - **Example:** Logging decorator for tracking function calls.\n",
    "\n",
    "- **Advantage: Cleaner Code**\n",
    "  - **Example:** Validation decorator for checking input types.\n",
    "\n",
    "- **Advantage: Dynamic Behavior**\n",
    "  - **Example:** Caching decorator for performance improvement.\n",
    "\n",
    "- **Advantage: Separation of Concerns**\n",
    "  - **Example:** Authentication decorator for securing API endpoints.\n",
    "\n",
    "- **Disadvantage: Decorator Stack Order**\n",
    "  - **Example:** Applying decorators for logging, validation, and caching.\n",
    "\n",
    "- **Disadvantage: Debugging Complexity**\n",
    "  - **Example:** Debugging a system with heavily decorated functions.\n",
    "\n",
    "- **Disadvantage: Hidden Behavior**\n",
    "  - **Example:** Memoization decorator may obscure function behavior.\n",
    "\n",
    "- **Disadvantage: Potential Overuse**\n",
    "  - **Example:** Applying decorators to small utility functions.\n",
    "\n",
    "- **Advantage: Framework Integration**\n",
    "  - **Example:** Using decorators in web frameworks like Flask for defining routes."
   ]
  }
 ],
 "metadata": {
  "kernelspec": {
   "display_name": "Python 3",
   "language": "python",
   "name": "python3"
  },
  "language_info": {
   "codemirror_mode": {
    "name": "ipython",
    "version": 3
   },
   "file_extension": ".py",
   "mimetype": "text/x-python",
   "name": "python",
   "nbconvert_exporter": "python",
   "pygments_lexer": "ipython3",
   "version": "3.10.7"
  }
 },
 "nbformat": 4,
 "nbformat_minor": 2
}
